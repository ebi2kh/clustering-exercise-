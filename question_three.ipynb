{
 "cells": [
  {
   "cell_type": "code",
   "execution_count": 1,
   "metadata": {},
   "outputs": [
    {
     "name": "stdout",
     "output_type": "stream",
     "text": [
      "a: [4, 1, 4]\n",
      "b: [7, 8, 1]\n",
      "c: [8, 1, 8]\n",
      "d: [11, 2, 3]\n",
      "q: [7, 1, 8]\n"
     ]
    }
   ],
   "source": [
    "def image_vector(image):\n",
    "  \"\"\"\n",
    "  Calculates the vector of an image based on the number of blue, red, and yellow colors.\n",
    "\n",
    "  Args:\n",
    "    image: A 2D list representing the image, where each element is an integer\n",
    "      representing the color: 1 = red, 2 = yellow, 3 = blue, 0 = no color.\n",
    "\n",
    "  Returns:\n",
    "    A list of three elements: the number of blue pixels, the number of red pixels,\n",
    "    and the number of yellow pixels in the image.\n",
    "  \"\"\"\n",
    "  blue_count = 0\n",
    "  red_count = 0\n",
    "  yellow_count = 0\n",
    "  for row in image:\n",
    "    for pixel in row:\n",
    "      if pixel == 1:\n",
    "        red_count += 1\n",
    "      elif pixel == 2:\n",
    "        yellow_count += 1\n",
    "      elif pixel == 3:\n",
    "        blue_count += 1\n",
    "  return [blue_count, red_count, yellow_count]\n",
    "\n",
    "# Define the images as lists of lists\n",
    "a = [[0, 0, 0, 0, 0, 0],\n",
    "     [0, 0, 1, 0, 0, 0],\n",
    "     [0, 2, 2, 2, 0, 0],\n",
    "     [3, 3, 2, 3, 3, 0],\n",
    "     [0, 0, 0, 0, 0, 0],\n",
    "     [0, 0, 0, 0, 0, 0]]\n",
    "\n",
    "b = [[0, 0, 0, 0, 0, 0],\n",
    "     [0, 1, 1, 1, 1, 0],\n",
    "     [0, 1, 1, 1, 2, 0],\n",
    "     [0, 3, 1, 3, 3, 0],\n",
    "     [0, 3, 3, 3, 3, 0],\n",
    "     [0, 0, 0, 0, 0, 0]]\n",
    "\n",
    "c = [[0, 0, 0, 0, 3, 0],\n",
    "     [0, 2, 2, 2, 2, 0],\n",
    "     [0, 2, 2, 2, 1, 0],\n",
    "     [0, 3, 2, 3, 3, 0],\n",
    "     [0, 3, 3, 3, 3, 0],\n",
    "     [0, 0, 0, 0, 0, 0]]\n",
    "\n",
    "d = [[2, 3, 3, 3, 0, 0],\n",
    "     [3, 2, 3, 1, 0, 0],\n",
    "     [3, 3, 3, 3, 0, 0],\n",
    "     [3, 2, 3, 1, 0, 0],\n",
    "     [0, 0, 0, 0, 0, 0],\n",
    "     [0, 0, 0, 0, 0, 0]]\n",
    "\n",
    "q = [[0, 0, 0, 0, 0, 0],\n",
    "     [0, 2, 2, 2, 2, 0],\n",
    "     [0, 2, 2, 2, 1, 0],\n",
    "     [0, 3, 2, 3, 3, 0],\n",
    "     [0, 3, 3, 3, 3, 0],\n",
    "     [0, 0, 0, 0, 0, 0]]\n",
    "\n",
    "# Calculate the vectors for each image\n",
    "a_vector = image_vector(a)\n",
    "b_vector = image_vector(b)\n",
    "c_vector = image_vector(c)\n",
    "d_vector = image_vector(d)\n",
    "q_vector = image_vector(q)\n",
    "\n",
    "# Print the vectors\n",
    "print(\"a:\", a_vector)\n",
    "print(\"b:\", b_vector)\n",
    "print(\"c:\", c_vector)\n",
    "print(\"d:\", d_vector)\n",
    "print(\"q:\", q_vector)"
   ]
  },
  {
   "cell_type": "code",
   "execution_count": null,
   "metadata": {},
   "outputs": [],
   "source": []
  }
 ],
 "metadata": {
  "kernelspec": {
   "display_name": "base",
   "language": "python",
   "name": "python3"
  },
  "language_info": {
   "codemirror_mode": {
    "name": "ipython",
    "version": 3
   },
   "file_extension": ".py",
   "mimetype": "text/x-python",
   "name": "python",
   "nbconvert_exporter": "python",
   "pygments_lexer": "ipython3",
   "version": "3.11.4"
  }
 },
 "nbformat": 4,
 "nbformat_minor": 2
}
