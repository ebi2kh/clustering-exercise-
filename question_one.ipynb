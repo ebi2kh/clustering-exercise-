{
 "cells": [
  {
   "cell_type": "markdown",
   "metadata": {},
   "source": [
    "<a href=\"https://colab.research.google.com/gist/ebi2kh/dcfd3c050b9a6314cd5ce4f56bcd42d3/untitled9.ipynb\" target=\"_parent\"><img src=\"https://colab.research.google.com/assets/colab-badge.svg\" alt=\"Open In Colab\"/></a>"
   ]
  },
  {
   "cell_type": "markdown",
   "metadata": {},
   "source": [
    "Here’s a simple Python code snippet that performs the k-means algorithm for one iteration. This code uses the Euclidean distance and considers A1, A4, A7 as the initial centers of the clusters."
   ]
  },
  {
   "cell_type": "code",
   "execution_count": 3,
   "metadata": {},
   "outputs": [
    {
     "name": "stdout",
     "output_type": "stream",
     "text": [
      "[ 2 10], [ 2 10] = 0.0 \n",
      "[ 2 10], [5 8] = 3.605551275463989 \n",
      "[ 2 10], [1 2] = 8.06225774829855 \n",
      "[2 5], [ 2 10] = 5.0 \n",
      "[2 5], [5 8] = 4.242640687119285 \n",
      "[2 5], [1 2] = 3.1622776601683795 \n",
      "[8 4], [ 2 10] = 8.48528137423857 \n",
      "[8 4], [5 8] = 5.0 \n",
      "[8 4], [1 2] = 7.280109889280518 \n",
      "[5 8], [ 2 10] = 3.605551275463989 \n",
      "[5 8], [5 8] = 0.0 \n",
      "[5 8], [1 2] = 7.211102550927978 \n",
      "[7 5], [ 2 10] = 7.0710678118654755 \n",
      "[7 5], [5 8] = 3.605551275463989 \n",
      "[7 5], [1 2] = 6.708203932499369 \n",
      "[6 4], [ 2 10] = 7.211102550927978 \n",
      "[6 4], [5 8] = 4.123105625617661 \n",
      "[6 4], [1 2] = 5.385164807134504 \n",
      "[1 2], [ 2 10] = 8.06225774829855 \n",
      "[1 2], [5 8] = 7.211102550927978 \n",
      "[1 2], [1 2] = 0.0 \n",
      "[4 9], [ 2 10] = 2.23606797749979 \n",
      "[4 9], [5 8] = 1.4142135623730951 \n",
      "[4 9], [1 2] = 7.615773105863909 \n",
      "New clusters as sets:\n",
      "Cluster A1: ['A1']\n",
      "Cluster A4: ['A3', 'A4', 'A5', 'A6', 'A8']\n",
      "Cluster A7: ['A2', 'A7']\n",
      "\n",
      "Center of the new clusters:\n",
      "Center A1* : [ 2. 10.]\n",
      "Center A4* : [6. 6.]\n",
      "Center A7* : [1.5 3.5]\n"
     ]
    }
   ],
   "source": [
    "import numpy as np\n",
    "\n",
    "# Define the data points\n",
    "A1 = np.array([2,10])\n",
    "A2 = np.array([2,5])\n",
    "A3 = np.array([8,4])\n",
    "A4 = np.array([5,8])\n",
    "A5 = np.array([7,5])\n",
    "A6 = np.array([6,4])\n",
    "A7 = np.array([1,2])\n",
    "A8 = np.array([4,9])\n",
    "\n",
    "# Initial centroids\n",
    "centroids = { 'A1': A1, 'A4': A4, 'A7': A7 }\n",
    "\n",
    "# All points\n",
    "points = { 'A1': A1, 'A2': A2, 'A3': A3, 'A4': A4, 'A5': A5, 'A6': A6, 'A7': A7, 'A8': A8 }\n",
    "\n",
    "# Function to calculate Euclidean distance\n",
    "def euclidean_distance(a, b):\n",
    "    distance = np.sqrt(np.sum((a - b) ** 2))\n",
    "    print(f\"{a}, {b} = {distance} \")\n",
    "    return distance\n",
    "\n",
    "# Assignment step\n",
    "clusters = { 'A1': [], 'A4': [], 'A7': [] }\n",
    "\n",
    "for point_name, point in points.items():\n",
    "    distances = { centroid: euclidean_distance(point, center) for centroid, center in centroids.items() }\n",
    "    closest_centroid = min(distances, key=distances.get)\n",
    "    clusters[closest_centroid].append(point_name)\n",
    "\n",
    "# Update step\n",
    "for centroid, cluster_points in clusters.items():\n",
    "    if cluster_points:  # check if cluster is not empty\n",
    "        new_center = np.mean([points[point] for point in cluster_points], axis=0)\n",
    "        centroids[centroid] = new_center\n",
    "\n",
    "print(\"New clusters as sets:\")\n",
    "for centroid, cluster_points in clusters.items():\n",
    "    print(f\"Cluster {centroid}: {cluster_points}\")\n",
    "\n",
    "print(\"\\nCenter of the new clusters:\")\n",
    "for centroid, center in centroids.items():\n",
    "    print(f\"Center {centroid}* : {center}\")\n"
   ]
  },
  {
   "cell_type": "markdown",
   "metadata": {},
   "source": [
    "Note that this code only performs one iteration of the k-means algorithm, as per your request. In a real-world scenario, you would typically run the algorithm until the centroids do not change significantly or a certain number of iterations have been reached. Also, this code does not handle the case where a cluster has no points assigned to it after the assignment step. In a robust implementation of k-means, you would need to handle this case to prevent division by zero errors during the update step."
   ]
  },
  {
   "cell_type": "markdown",
   "metadata": {},
   "source": [
    "Update the code to Draw a 10x10 coordinate diagram and draw the new clusters and centers after the first calculation of the algorithm."
   ]
  },
  {
   "cell_type": "code",
   "execution_count": 5,
   "metadata": {},
   "outputs": [
    {
     "name": "stdout",
     "output_type": "stream",
     "text": [
      "New clusters as sets:\n",
      "Cluster A1: ['A1']\n",
      "Cluster A4: ['A3', 'A4', 'A5', 'A6', 'A8']\n",
      "Cluster A7: ['A2', 'A7']\n",
      "\n",
      "Center of the new clusters:\n",
      "Center A1* : [ 2. 10.]\n",
      "Center A4* : [6. 6.]\n",
      "Center A7* : [1.5 3.5]\n"
     ]
    },
    {
     "data": {
      "image/png": "[encoded data removed]",
      "text/plain": [
       "<Figure size 500x500 with 1 Axes>"
      ]
     },
     "metadata": {},
     "output_type": "display_data"
    }
   ],
   "source": [
    "import numpy as np\n",
    "import matplotlib.pyplot as plt\n",
    "\n",
    "# Define the data points\n",
    "A1 = np.array([2,10])\n",
    "A2 = np.array([2,5])\n",
    "A3 = np.array([8,4])\n",
    "A4 = np.array([5,8])\n",
    "A5 = np.array([7,5])\n",
    "A6 = np.array([6,4])\n",
    "A7 = np.array([1,2])\n",
    "A8 = np.array([4,9])\n",
    "\n",
    "# Initial centroids\n",
    "centroids = { 'A1': A1, 'A4': A4, 'A7': A7 }\n",
    "\n",
    "# All points\n",
    "points = { 'A1': A1, 'A2': A2, 'A3': A3, 'A4': A4, 'A5': A5, 'A6': A6, 'A7': A7, 'A8': A8 }\n",
    "\n",
    "# Function to calculate Euclidean distance\n",
    "def euclidean_distance(a, b):\n",
    "    return np.sqrt(np.sum((a - b) ** 2))\n",
    "\n",
    "# Assignment step\n",
    "clusters = { 'A1': [], 'A4': [], 'A7': [] }\n",
    "\n",
    "for point_name, point in points.items():\n",
    "    distances = { centroid: euclidean_distance(point, center) for centroid, center in centroids.items() }\n",
    "    closest_centroid = min(distances, key=distances.get)\n",
    "    clusters[closest_centroid].append(point_name)\n",
    "\n",
    "# Update step\n",
    "for centroid, cluster_points in clusters.items():\n",
    "    if cluster_points:  # check if cluster is not empty\n",
    "        new_center = np.mean([points[point] for point in cluster_points], axis=0)\n",
    "        centroids[centroid] = new_center\n",
    "\n",
    "print(\"New clusters as sets:\")\n",
    "for centroid, cluster_points in clusters.items():\n",
    "    print(f\"Cluster {centroid}: {cluster_points}\")\n",
    "\n",
    "print(\"\\nCenter of the new clusters:\")\n",
    "for centroid, center in centroids.items():\n",
    "    print(f\"Center {centroid}* : {center}\")\n",
    "\n",
    "# Plotting\n",
    "plt.figure(figsize=(5,5))\n",
    "plt.xlim(0, 10)\n",
    "plt.ylim(0, 10)\n",
    "\n",
    "colors = ['r', 'g', 'b']\n",
    "for color, (centroid, cluster_points) in zip(colors, clusters.items()):\n",
    "    plt.scatter(*zip(*[points[point] for point in cluster_points]), c=color)\n",
    "    plt.scatter(*centroids[centroid], c=color, marker='*', s=200)  # plot new centers with a star\n",
    "\n",
    "plt.grid(True)\n",
    "plt.show()\n"
   ]
  },
  {
   "cell_type": "code",
   "execution_count": null,
   "metadata": {},
   "outputs": [],
   "source": []
  }
 ],
 "metadata": {
  "kernelspec": {
   "display_name": "base",
   "language": "python",
   "name": "python3"
  },
  "language_info": {
   "codemirror_mode": {
    "name": "ipython",
    "version": 3
   },
   "file_extension": ".py",
   "mimetype": "text/x-python",
   "name": "python",
   "nbconvert_exporter": "python",
   "pygments_lexer": "ipython3",
   "version": "3.11.4"
  }
 },
 "nbformat": 4,
 "nbformat_minor": 2
}
